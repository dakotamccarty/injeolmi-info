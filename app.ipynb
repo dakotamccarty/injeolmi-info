{
 "cells": [
  {
   "cell_type": "code",
   "execution_count": 2,
   "metadata": {},
   "outputs": [],
   "source": [
    "from datetime import datetime\n",
    "\n",
    "# Function to calculate the dog's age in days\n",
    "def calculate_age_in_days(birthday):\n",
    "    today = datetime.today()\n",
    "    birthday_date = datetime.strptime(birthday, \"%Y-%m-%d\")\n",
    "    age_in_days = (today - birthday_date).days\n",
    "    return age_in_days\n",
    "\n",
    "# Function to calculate the food amount based on the dog's age in days\n",
    "def calculate_food_amount(age_in_days):\n",
    "    if age_in_days <= 60:\n",
    "        return 288\n",
    "    elif 60 < age_in_days <= 180:\n",
    "        return 288 + ((age_in_days - 60) / (180 - 60)) * (507 - 288)\n",
    "    elif 180 < age_in_days <= 240:\n",
    "        return 507 + ((age_in_days - 180) / (240 - 180)) * (475 - 507)\n",
    "    elif 240 < age_in_days <= 365:\n",
    "        return 475 + ((age_in_days - 240) / (365 - 240)) * (323 - 475)\n",
    "    else:\n",
    "        return 323"
   ]
  },
  {
   "cell_type": "code",
   "execution_count": 3,
   "metadata": {},
   "outputs": [
    {
     "name": "stdout",
     "output_type": "stream",
     "text": [
      "Your dog is 115 days old and should be fed 388.38 grams of food per day.\n"
     ]
    }
   ],
   "source": [
    "# Example usage:\n",
    "birthday = '2024-06-27'\n",
    "age_in_days = calculate_age_in_days(birthday)\n",
    "food_amount = calculate_food_amount(age_in_days)\n",
    "print(f\"Your dog is {age_in_days} days old and should be fed {food_amount:.2f} grams of food per day.\")"
   ]
  }
 ],
 "metadata": {
  "kernelspec": {
   "display_name": "green_desert",
   "language": "python",
   "name": "python3"
  },
  "language_info": {
   "codemirror_mode": {
    "name": "ipython",
    "version": 3
   },
   "file_extension": ".py",
   "mimetype": "text/x-python",
   "name": "python",
   "nbconvert_exporter": "python",
   "pygments_lexer": "ipython3",
   "version": "3.9.16"
  }
 },
 "nbformat": 4,
 "nbformat_minor": 2
}
